{
 "cells": [
  {
   "cell_type": "markdown",
   "metadata": {},
   "source": [
    "# Licence Plate Blurring"
   ]
  },
  {
   "cell_type": "markdown",
   "metadata": {},
   "source": [
    "Working with pretrained model, License Plate Detector"
   ]
  },
  {
   "cell_type": "code",
   "execution_count": 1,
   "metadata": {},
   "outputs": [
    {
     "name": "stderr",
     "output_type": "stream",
     "text": [
      "c:\\Users\\santi\\AppData\\Local\\Programs\\Python\\Python310\\lib\\site-packages\\tqdm\\auto.py:21: TqdmWarning: IProgress not found. Please update jupyter and ipywidgets. See https://ipywidgets.readthedocs.io/en/stable/user_install.html\n",
      "  from .autonotebook import tqdm as notebook_tqdm\n"
     ]
    }
   ],
   "source": [
    "import os\n",
    "from ultralytics import YOLO \n",
    "import cv2\n",
    "import numpy as np\n",
    "import pandas as pd\n",
    "import matplotlib.pyplot as plt"
   ]
  },
  {
   "cell_type": "code",
   "execution_count": 2,
   "metadata": {},
   "outputs": [],
   "source": [
    "model_best_path = \"directory to model\"\n",
    "model = YOLO(model_best_path)"
   ]
  },
  {
   "cell_type": "code",
   "execution_count": 22,
   "metadata": {},
   "outputs": [],
   "source": [
    "image_name = \"image_name.jpg\"\n",
    "image_path = \"directory of image\"\n",
    "image_path_complete = os.path.join(image_path,image_name)\n",
    "\n",
    "def image_licence_blur(image_path_complete):\n",
    "    result = model.predict(image_path_complete,visualize=True ,conf=0.25,augment=True)\n",
    "    for r in result:\n",
    "        boxes = r.boxes.xyxy.cpu().numpy()\n",
    "        r.show()\n",
    "    print(boxes)\n",
    "\n",
    "    image = cv2.imread(image_path_complete)\n",
    "\n",
    "    if boxes is not None:\n",
    "        for b in boxes:\n",
    "            x1,y1,x2,y2 = b[0],b[1],b[2],b[3]\n",
    "            x1 = int(x1)\n",
    "            y1 = int(y1)\n",
    "            x2 = int(x2)\n",
    "            y2 = int(y2)\n",
    "            image = cv2.rectangle (image,(x1,y1),(x2,y2), 0)\n",
    "            image[y1:y2,x1:x2, :]= cv2.blur(image[y1:y2,x1:x2, :],(50,50),cv2.BORDER_REFLECT)\n",
    "    plt.imshow(image)\n",
    "\n",
    "    output_path = \"output path\"\n",
    "    cv2.imwrite(os.path.join(output_path, image_name),image)\n",
    "    return \"Image Processed\""
   ]
  },
  {
   "cell_type": "code",
   "execution_count": 26,
   "metadata": {},
   "outputs": [],
   "source": [
    "video_name = \"VIDEO_NAME.mp4\"\n",
    "video_path = \"video path\"\n",
    "video_path_complete = os.path.join(video_path,video_name)\n",
    "output_path = \"output path\"\n",
    "\n",
    "def video_licence_blur(video_path_complete):\n",
    "    cap = cv2.VideoCapture(video_path_complete)\n",
    "    scores = []\n",
    "\n",
    "    # Information of output video\n",
    "    fps = 25  # Fotogramas por segundo\n",
    "    fourcc = cv2.VideoWriter_fourcc(*'MP4V')  # Codec de video\n",
    "    width = int(cap.get(cv2.CAP_PROP_FRAME_WIDTH)) # Ancho del frame\n",
    "    height = int(cap.get(cv2.CAP_PROP_FRAME_HEIGHT)) # Alto del frame\n",
    "    out = cv2.VideoWriter(os.path.join(output_path, \"output_name.mp4\"), fourcc, fps, (width, height)) # Output Name\n",
    "\n",
    "    while cap.isOpened():\n",
    "        # Read a frame from the video\n",
    "        success, frame = cap.read()\n",
    "        # If any video is being reading\n",
    "        if success:\n",
    "            # Run model\n",
    "            result = model.predict(frame,visualize=True ,conf=0.40,augment=True)\n",
    "            for r in result:\n",
    "                boxes = r.boxes.xyxy.cpu().numpy()\n",
    "\n",
    "            if boxes is not None:\n",
    "                for box in boxes:\n",
    "                    x1, y1, x2, y2 = map(int, box)\n",
    "                    frame = cv2.rectangle (frame,(x1,y1),(x2,y2), 0)\n",
    "                    frame[y1:y2,x1:x2, :]= cv2.blur(frame[y1:y2,x1:x2, :],(50,50),cv2.BORDER_REFLECT)\n",
    "            out.write(frame)\n",
    "\n",
    "        else:\n",
    "            break\n",
    "\n",
    "    # Release resources\n",
    "    cap.release()\n",
    "    out.release()\n",
    "    return \"Video Processed\""
   ]
  }
 ],
 "metadata": {
  "kernelspec": {
   "display_name": "Python 3",
   "language": "python",
   "name": "python3"
  },
  "language_info": {
   "codemirror_mode": {
    "name": "ipython",
    "version": 3
   },
   "file_extension": ".py",
   "mimetype": "text/x-python",
   "name": "python",
   "nbconvert_exporter": "python",
   "pygments_lexer": "ipython3",
   "version": "3.10.4"
  }
 },
 "nbformat": 4,
 "nbformat_minor": 2
}
