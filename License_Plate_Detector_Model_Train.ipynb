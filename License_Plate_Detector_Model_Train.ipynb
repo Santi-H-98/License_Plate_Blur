{
 "cells": [
  {
   "cell_type": "markdown",
   "metadata": {},
   "source": [
    "# License Plate Detector"
   ]
  },
  {
   "cell_type": "code",
   "execution_count": 1,
   "metadata": {},
   "outputs": [
    {
     "name": "stderr",
     "output_type": "stream",
     "text": [
      "c:\\Users\\santi\\AppData\\Local\\Programs\\Python\\Python310\\lib\\site-packages\\tqdm\\auto.py:21: TqdmWarning: IProgress not found. Please update jupyter and ipywidgets. See https://ipywidgets.readthedocs.io/en/stable/user_install.html\n",
      "  from .autonotebook import tqdm as notebook_tqdm\n"
     ]
    }
   ],
   "source": [
    "import os\n",
    "from ultralytics import YOLO "
   ]
  },
  {
   "cell_type": "code",
   "execution_count": 2,
   "metadata": {},
   "outputs": [],
   "source": [
    "data_path = \"C:/Users/santi/Desktop/PROGRAMACION/COMPUTER VISION/Projects/License Plate Detector/yolo-license-plate-detection/License Plate Detector 2/data.yaml\""
   ]
  },
  {
   "cell_type": "code",
   "execution_count": 3,
   "metadata": {},
   "outputs": [
    {
     "name": "stdout",
     "output_type": "stream",
     "text": [
      "New https://pypi.org/project/ultralytics/8.2.10 available  Update with 'pip install -U ultralytics'\n",
      "Ultralytics YOLOv8.1.42  Python-3.10.4 torch-1.11.0+cu113 CUDA:0 (NVIDIA GeForce RTX 3070 Laptop GPU, 8192MiB)\n",
      "WARNING  Upgrade to torch>=2.0.0 for deterministic training.\n",
      "\u001b[34m\u001b[1mengine\\trainer: \u001b[0mtask=detect, mode=train, model=yolov8n.pt, data=C:/Users/santi/Desktop/PROGRAMACION/COMPUTER VISION/Projects/License Plate Detector/yolo-license-plate-detection/License Plate Detector 2/data.yaml, epochs=20, time=None, patience=100, batch=8, imgsz=640, save=True, save_period=-1, cache=disk, device=0, workers=2, project=None, name=train2, exist_ok=False, pretrained=True, optimizer=auto, verbose=True, seed=0, deterministic=True, single_cls=False, rect=False, cos_lr=False, close_mosaic=10, resume=False, amp=True, fraction=1.0, profile=False, freeze=None, multi_scale=False, overlap_mask=True, mask_ratio=4, dropout=0.0, val=True, split=val, save_json=False, save_hybrid=False, conf=None, iou=0.7, max_det=300, half=False, dnn=False, plots=True, source=None, vid_stride=1, stream_buffer=False, visualize=False, augment=False, agnostic_nms=False, classes=None, retina_masks=False, embed=None, show=False, save_frames=False, save_txt=False, save_conf=False, save_crop=False, show_labels=True, show_conf=True, show_boxes=True, line_width=None, format=torchscript, keras=False, optimize=False, int8=False, dynamic=False, simplify=False, opset=None, workspace=4, nms=False, lr0=0.01, lrf=0.01, momentum=0.937, weight_decay=0.0005, warmup_epochs=3.0, warmup_momentum=0.8, warmup_bias_lr=0.1, box=7.5, cls=0.5, dfl=1.5, pose=12.0, kobj=1.0, label_smoothing=0.0, nbs=64, hsv_h=0.015, hsv_s=0.7, hsv_v=0.4, degrees=0.0, translate=0.1, scale=0.5, shear=0.0, perspective=0.0, flipud=0.0, fliplr=0.5, bgr=0.0, mosaic=1.0, mixup=0.0, copy_paste=0.0, auto_augment=randaugment, erasing=0.4, crop_fraction=1.0, cfg=None, tracker=botsort.yaml, save_dir=runs\\detect\\train2\n",
      "Overriding model.yaml nc=80 with nc=1\n",
      "\n",
      "                   from  n    params  module                                       arguments                     \n",
      "  0                  -1  1       464  ultralytics.nn.modules.conv.Conv             [3, 16, 3, 2]                 \n",
      "  1                  -1  1      4672  ultralytics.nn.modules.conv.Conv             [16, 32, 3, 2]                \n",
      "  2                  -1  1      7360  ultralytics.nn.modules.block.C2f             [32, 32, 1, True]             \n",
      "  3                  -1  1     18560  ultralytics.nn.modules.conv.Conv             [32, 64, 3, 2]                \n",
      "  4                  -1  2     49664  ultralytics.nn.modules.block.C2f             [64, 64, 2, True]             \n",
      "  5                  -1  1     73984  ultralytics.nn.modules.conv.Conv             [64, 128, 3, 2]               \n",
      "  6                  -1  2    197632  ultralytics.nn.modules.block.C2f             [128, 128, 2, True]           \n",
      "  7                  -1  1    295424  ultralytics.nn.modules.conv.Conv             [128, 256, 3, 2]              \n",
      "  8                  -1  1    460288  ultralytics.nn.modules.block.C2f             [256, 256, 1, True]           \n",
      "  9                  -1  1    164608  ultralytics.nn.modules.block.SPPF            [256, 256, 5]                 \n",
      " 10                  -1  1         0  torch.nn.modules.upsampling.Upsample         [None, 2, 'nearest']          \n",
      " 11             [-1, 6]  1         0  ultralytics.nn.modules.conv.Concat           [1]                           \n",
      " 12                  -1  1    148224  ultralytics.nn.modules.block.C2f             [384, 128, 1]                 \n",
      " 13                  -1  1         0  torch.nn.modules.upsampling.Upsample         [None, 2, 'nearest']          \n",
      " 14             [-1, 4]  1         0  ultralytics.nn.modules.conv.Concat           [1]                           \n",
      " 15                  -1  1     37248  ultralytics.nn.modules.block.C2f             [192, 64, 1]                  \n",
      " 16                  -1  1     36992  ultralytics.nn.modules.conv.Conv             [64, 64, 3, 2]                \n",
      " 17            [-1, 12]  1         0  ultralytics.nn.modules.conv.Concat           [1]                           \n",
      " 18                  -1  1    123648  ultralytics.nn.modules.block.C2f             [192, 128, 1]                 \n",
      " 19                  -1  1    147712  ultralytics.nn.modules.conv.Conv             [128, 128, 3, 2]              \n",
      " 20             [-1, 9]  1         0  ultralytics.nn.modules.conv.Concat           [1]                           \n",
      " 21                  -1  1    493056  ultralytics.nn.modules.block.C2f             [384, 256, 1]                 \n",
      " 22        [15, 18, 21]  1    751507  ultralytics.nn.modules.head.Detect           [1, [64, 128, 256]]           \n",
      "Model summary: 225 layers, 3011043 parameters, 3011027 gradients, 8.2 GFLOPs\n",
      "\n",
      "Transferred 319/355 items from pretrained weights\n",
      "\u001b[34m\u001b[1mTensorBoard: \u001b[0mStart with 'tensorboard --logdir runs\\detect\\train2', view at http://localhost:6006/\n",
      "Freezing layer 'model.22.dfl.conv.weight'\n",
      "\u001b[34m\u001b[1mAMP: \u001b[0mrunning Automatic Mixed Precision (AMP) checks with YOLOv8n...\n",
      "\u001b[34m\u001b[1mAMP: \u001b[0mchecks passed \n"
     ]
    },
    {
     "name": "stderr",
     "output_type": "stream",
     "text": [
      "\u001b[34m\u001b[1mtrain: \u001b[0mScanning C:\\Users\\santi\\Desktop\\PROGRAMACION\\COMPUTER VISION\\Projects\\License Plate Detector\\yolo-license-plate-detection\\License Plate Detector 2\\train\\labels.cache... 7018 images, 5 backgrounds, 40 corrupt: 100%|██████████| 7058/7058 [00:00<?, ?it/s]"
     ]
    },
    {
     "name": "stdout",
     "output_type": "stream",
     "text": [
      "\u001b[34m\u001b[1mtrain: \u001b[0mWARNING  C:\\Users\\santi\\Desktop\\PROGRAMACION\\COMPUTER VISION\\Projects\\License Plate Detector\\yolo-license-plate-detection\\License Plate Detector 2\\train\\images\\1-placa-mexicana-del-estado-de-guerrero-2015-ha-D_NQ_NP_781642-MLM31170295955_062019-F_jpg.rf.d76d167ce22d757bd1bf4347e165b427.jpg: ignoring corrupt image/label: [Errno 2] No such file or directory: 'C:\\\\Users\\\\santi\\\\Desktop\\\\PROGRAMACION\\\\COMPUTER VISION\\\\Projects\\\\License Plate Detector\\\\yolo-license-plate-detection\\\\License Plate Detector 2\\\\train\\\\images\\\\1-placa-mexicana-del-estado-de-guerrero-2015-ha-D_NQ_NP_781642-MLM31170295955_062019-F_jpg.rf.d76d167ce22d757bd1bf4347e165b427.jpg'\n",
      "\u001b[34m\u001b[1mtrain: \u001b[0mWARNING  C:\\Users\\santi\\Desktop\\PROGRAMACION\\COMPUTER VISION\\Projects\\License Plate Detector\\yolo-license-plate-detection\\License Plate Detector 2\\train\\images\\21-Placa-2BGUERRERO-2BAutomovil-2BHCK-99-99-2BGuerrero-2BCumple-2BClavado-2BLa-2BQuebrada_jpg.rf.25c6ddc5c1f68267d780c2b11b4e967d.jpg: ignoring corrupt image/label: [Errno 2] No such file or directory: 'C:\\\\Users\\\\santi\\\\Desktop\\\\PROGRAMACION\\\\COMPUTER VISION\\\\Projects\\\\License Plate Detector\\\\yolo-license-plate-detection\\\\License Plate Detector 2\\\\train\\\\images\\\\21-Placa-2BGUERRERO-2BAutomovil-2BHCK-99-99-2BGuerrero-2BCumple-2BClavado-2BLa-2BQuebrada_jpg.rf.25c6ddc5c1f68267d780c2b11b4e967d.jpg'\n",
      "\u001b[34m\u001b[1mtrain: \u001b[0mWARNING  C:\\Users\\santi\\Desktop\\PROGRAMACION\\COMPUTER VISION\\Projects\\License Plate Detector\\yolo-license-plate-detection\\License Plate Detector 2\\train\\images\\67-800px-ILLINOIS_1962_LICENSE_PLATE_282-662_-_Flickr_-_woody1778a_jpg.rf.267052c23f4ef9d0ba7cf4f3626491e4.jpg: ignoring corrupt image/label: [Errno 2] No such file or directory: 'C:\\\\Users\\\\santi\\\\Desktop\\\\PROGRAMACION\\\\COMPUTER VISION\\\\Projects\\\\License Plate Detector\\\\yolo-license-plate-detection\\\\License Plate Detector 2\\\\train\\\\images\\\\67-800px-ILLINOIS_1962_LICENSE_PLATE_282-662_-_Flickr_-_woody1778a_jpg.rf.267052c23f4ef9d0ba7cf4f3626491e4.jpg'\n",
      "\u001b[34m\u001b[1mtrain: \u001b[0mWARNING  C:\\Users\\santi\\Desktop\\PROGRAMACION\\COMPUTER VISION\\Projects\\License Plate Detector\\yolo-license-plate-detection\\License Plate Detector 2\\train\\images\\81-800px-NEW_YORK_1980-86_LICENSE_PLATE_0000-AAA_FORMAT_-_Flickr_-_woody1778a_jpg.rf.ac75ee36f2cd963b17cbe24dc72c548d.jpg: ignoring corrupt image/label: [Errno 2] No such file or directory: 'C:\\\\Users\\\\santi\\\\Desktop\\\\PROGRAMACION\\\\COMPUTER VISION\\\\Projects\\\\License Plate Detector\\\\yolo-license-plate-detection\\\\License Plate Detector 2\\\\train\\\\images\\\\81-800px-NEW_YORK_1980-86_LICENSE_PLATE_0000-AAA_FORMAT_-_Flickr_-_woody1778a_jpg.rf.ac75ee36f2cd963b17cbe24dc72c548d.jpg'\n",
      "\u001b[34m\u001b[1mtrain: \u001b[0mWARNING  C:\\Users\\santi\\Desktop\\PROGRAMACION\\COMPUTER VISION\\Projects\\License Plate Detector\\yolo-license-plate-detection\\License Plate Detector 2\\train\\images\\84-640px-Korean_License_Plate_for_Private_Passenger_car_-_Gangwon-1996-2003-_jpg.rf.6abdf7f265f94a234ce959aba9cf75c5.jpg: ignoring corrupt image/label: [Errno 2] No such file or directory: 'C:\\\\Users\\\\santi\\\\Desktop\\\\PROGRAMACION\\\\COMPUTER VISION\\\\Projects\\\\License Plate Detector\\\\yolo-license-plate-detection\\\\License Plate Detector 2\\\\train\\\\images\\\\84-640px-Korean_License_Plate_for_Private_Passenger_car_-_Gangwon-1996-2003-_jpg.rf.6abdf7f265f94a234ce959aba9cf75c5.jpg'\n",
      "\u001b[34m\u001b[1mtrain: \u001b[0mWARNING  C:\\Users\\santi\\Desktop\\PROGRAMACION\\COMPUTER VISION\\Projects\\License Plate Detector\\yolo-license-plate-detection\\License Plate Detector 2\\train\\images\\88-800px-ONTARIO_1946_-LICENSE_PLATE_SHORTY_-VIP_-_Flickr_-_woody1778a_jpg.rf.b288b7fcd850e79fb3ddd9bd31b9d256.jpg: ignoring corrupt image/label: [Errno 2] No such file or directory: 'C:\\\\Users\\\\santi\\\\Desktop\\\\PROGRAMACION\\\\COMPUTER VISION\\\\Projects\\\\License Plate Detector\\\\yolo-license-plate-detection\\\\License Plate Detector 2\\\\train\\\\images\\\\88-800px-ONTARIO_1946_-LICENSE_PLATE_SHORTY_-VIP_-_Flickr_-_woody1778a_jpg.rf.b288b7fcd850e79fb3ddd9bd31b9d256.jpg'\n",
      "\u001b[34m\u001b[1mtrain: \u001b[0mWARNING  C:\\Users\\santi\\Desktop\\PROGRAMACION\\COMPUTER VISION\\Projects\\License Plate Detector\\yolo-license-plate-detection\\License Plate Detector 2\\train\\images\\92-800px-NETHERLANDS_1991_-PASSENGER_LICENSE_PLATE_FOR_AMERICAN_VEHICLE_-_Flickr_-_woody1778a_jpg.rf.fdc48c92181d3f0b033c581328325aae.jpg: ignoring corrupt image/label: [Errno 2] No such file or directory: 'C:\\\\Users\\\\santi\\\\Desktop\\\\PROGRAMACION\\\\COMPUTER VISION\\\\Projects\\\\License Plate Detector\\\\yolo-license-plate-detection\\\\License Plate Detector 2\\\\train\\\\images\\\\92-800px-NETHERLANDS_1991_-PASSENGER_LICENSE_PLATE_FOR_AMERICAN_VEHICLE_-_Flickr_-_woody1778a_jpg.rf.fdc48c92181d3f0b033c581328325aae.jpg'\n",
      "\u001b[34m\u001b[1mtrain: \u001b[0mWARNING  C:\\Users\\santi\\Desktop\\PROGRAMACION\\COMPUTER VISION\\Projects\\License Plate Detector\\yolo-license-plate-detection\\License Plate Detector 2\\train\\images\\AI-20License-20Plate-20Readers-20Are-20Cheaper-E2-80-94So-20Drive-20Caref_jpg.rf.71b6ebbd27248439bf31b7bd22e1486d.jpg: ignoring corrupt image/label: [Errno 2] No such file or directory: 'C:\\\\Users\\\\santi\\\\Desktop\\\\PROGRAMACION\\\\COMPUTER VISION\\\\Projects\\\\License Plate Detector\\\\yolo-license-plate-detection\\\\License Plate Detector 2\\\\train\\\\images\\\\AI-20License-20Plate-20Readers-20Are-20Cheaper-E2-80-94So-20Drive-20Caref_jpg.rf.71b6ebbd27248439bf31b7bd22e1486d.jpg'\n",
      "\u001b[34m\u001b[1mtrain: \u001b[0mWARNING  C:\\Users\\santi\\Desktop\\PROGRAMACION\\COMPUTER VISION\\Projects\\License Plate Detector\\yolo-license-plate-detection\\License Plate Detector 2\\train\\images\\Beijing-20license-20plate_-208-year-20wait-20for-20new-20energy_y_jpeg_jpg.rf.f04ecf148b324efe1590a18d2e26cc6b.jpg: ignoring corrupt image/label: [Errno 2] No such file or directory: 'C:\\\\Users\\\\santi\\\\Desktop\\\\PROGRAMACION\\\\COMPUTER VISION\\\\Projects\\\\License Plate Detector\\\\yolo-license-plate-detection\\\\License Plate Detector 2\\\\train\\\\images\\\\Beijing-20license-20plate_-208-year-20wait-20for-20new-20energy_y_jpeg_jpg.rf.f04ecf148b324efe1590a18d2e26cc6b.jpg'\n",
      "\u001b[34m\u001b[1mtrain: \u001b[0mWARNING  C:\\Users\\santi\\Desktop\\PROGRAMACION\\COMPUTER VISION\\Projects\\License Plate Detector\\yolo-license-plate-detection\\License Plate Detector 2\\train\\images\\British-20uk-20car-20license-20plate-20template-20gb-20car_yythkg_jpg.rf.6927f796cfc7c06d80a0fe1e4694965f.jpg: ignoring corrupt image/label: [Errno 2] No such file or directory: 'C:\\\\Users\\\\santi\\\\Desktop\\\\PROGRAMACION\\\\COMPUTER VISION\\\\Projects\\\\License Plate Detector\\\\yolo-license-plate-detection\\\\License Plate Detector 2\\\\train\\\\images\\\\British-20uk-20car-20license-20plate-20template-20gb-20car_yythkg_jpg.rf.6927f796cfc7c06d80a0fe1e4694965f.jpg'\n",
      "\u001b[34m\u001b[1mtrain: \u001b[0mWARNING  C:\\Users\\santi\\Desktop\\PROGRAMACION\\COMPUTER VISION\\Projects\\License Plate Detector\\yolo-license-plate-detection\\License Plate Detector 2\\train\\images\\Busted_-206-20common-20myths-20about-20automatic-20license-20plat_jpg.rf.670044f802b77278b56e19cc865cc111.jpg: ignoring corrupt image/label: [Errno 2] No such file or directory: 'C:\\\\Users\\\\santi\\\\Desktop\\\\PROGRAMACION\\\\COMPUTER VISION\\\\Projects\\\\License Plate Detector\\\\yolo-license-plate-detection\\\\License Plate Detector 2\\\\train\\\\images\\\\Busted_-206-20common-20myths-20about-20automatic-20license-20plat_jpg.rf.670044f802b77278b56e19cc865cc111.jpg'\n",
      "\u001b[34m\u001b[1mtrain: \u001b[0mWARNING  C:\\Users\\santi\\Desktop\\PROGRAMACION\\COMPUTER VISION\\Projects\\License Plate Detector\\yolo-license-plate-detection\\License Plate Detector 2\\train\\images\\California-20Developed-20Stick-On-20License-20Plates_-20No-20Bumper_yy_png_jpg.rf.7be10e1d26dd60eeb623907d8cb560e6.jpg: ignoring corrupt image/label: [Errno 2] No such file or directory: 'C:\\\\Users\\\\santi\\\\Desktop\\\\PROGRAMACION\\\\COMPUTER VISION\\\\Projects\\\\License Plate Detector\\\\yolo-license-plate-detection\\\\License Plate Detector 2\\\\train\\\\images\\\\California-20Developed-20Stick-On-20License-20Plates_-20No-20Bumper_yy_png_jpg.rf.7be10e1d26dd60eeb623907d8cb560e6.jpg'\n",
      "\u001b[34m\u001b[1mtrain: \u001b[0mWARNING  C:\\Users\\santi\\Desktop\\PROGRAMACION\\COMPUTER VISION\\Projects\\License Plate Detector\\yolo-license-plate-detection\\License Plate Detector 2\\train\\images\\California-20Now-20Allows-20Residents-20To-20Wrap-20Their-20Front_jpg.rf.50f51b3ee07b1d807cd0e9d5328f981b.jpg: ignoring corrupt image/label: [Errno 2] No such file or directory: 'C:\\\\Users\\\\santi\\\\Desktop\\\\PROGRAMACION\\\\COMPUTER VISION\\\\Projects\\\\License Plate Detector\\\\yolo-license-plate-detection\\\\License Plate Detector 2\\\\train\\\\images\\\\California-20Now-20Allows-20Residents-20To-20Wrap-20Their-20Front_jpg.rf.50f51b3ee07b1d807cd0e9d5328f981b.jpg'\n",
      "\u001b[34m\u001b[1mtrain: \u001b[0mWARNING  C:\\Users\\santi\\Desktop\\PROGRAMACION\\COMPUTER VISION\\Projects\\License Plate Detector\\yolo-license-plate-detection\\License Plate Detector 2\\train\\images\\Can-20Someone-20Really-20Steal-20Your-20Info-20From-20Your_yythkg-20-1-_jpg.rf.1df2eb340079cd283e9590648cc89b87.jpg: ignoring corrupt image/label: [Errno 2] No such file or directory: 'C:\\\\Users\\\\santi\\\\Desktop\\\\PROGRAMACION\\\\COMPUTER VISION\\\\Projects\\\\License Plate Detector\\\\yolo-license-plate-detection\\\\License Plate Detector 2\\\\train\\\\images\\\\Can-20Someone-20Really-20Steal-20Your-20Info-20From-20Your_yythkg-20-1-_jpg.rf.1df2eb340079cd283e9590648cc89b87.jpg'\n",
      "\u001b[34m\u001b[1mtrain: \u001b[0mWARNING  C:\\Users\\santi\\Desktop\\PROGRAMACION\\COMPUTER VISION\\Projects\\License Plate Detector\\yolo-license-plate-detection\\License Plate Detector 2\\train\\images\\Can-20Someone-20Really-20Steal-20Your-20Info-20From-20Your_yythkg-20-2-_jpg.rf.9a31c91dd9c62c9622684914009c6b16.jpg: ignoring corrupt image/label: [Errno 2] No such file or directory: 'C:\\\\Users\\\\santi\\\\Desktop\\\\PROGRAMACION\\\\COMPUTER VISION\\\\Projects\\\\License Plate Detector\\\\yolo-license-plate-detection\\\\License Plate Detector 2\\\\train\\\\images\\\\Can-20Someone-20Really-20Steal-20Your-20Info-20From-20Your_yythkg-20-2-_jpg.rf.9a31c91dd9c62c9622684914009c6b16.jpg'\n",
      "\u001b[34m\u001b[1mtrain: \u001b[0mWARNING  C:\\Users\\santi\\Desktop\\PROGRAMACION\\COMPUTER VISION\\Projects\\License Plate Detector\\yolo-license-plate-detection\\License Plate Detector 2\\train\\images\\Canadian-20military-20vehicle-20license-20plate-20_-20In-20Canada_jpg.rf.0700490cdca945d17aae14acc84a2a3f.jpg: ignoring corrupt image/label: [Errno 2] No such file or directory: 'C:\\\\Users\\\\santi\\\\Desktop\\\\PROGRAMACION\\\\COMPUTER VISION\\\\Projects\\\\License Plate Detector\\\\yolo-license-plate-detection\\\\License Plate Detector 2\\\\train\\\\images\\\\Canadian-20military-20vehicle-20license-20plate-20_-20In-20Canada_jpg.rf.0700490cdca945d17aae14acc84a2a3f.jpg'\n",
      "\u001b[34m\u001b[1mtrain: \u001b[0mWARNING  C:\\Users\\santi\\Desktop\\PROGRAMACION\\COMPUTER VISION\\Projects\\License Plate Detector\\yolo-license-plate-detection\\License Plate Detector 2\\train\\images\\Car-20License-20Plate-20designs_-20themes_-20templates-20and-20do_jpg.rf.e1a27554cd7a22d561b49bb1154b6a7e.jpg: ignoring corrupt image/label: [Errno 2] No such file or directory: 'C:\\\\Users\\\\santi\\\\Desktop\\\\PROGRAMACION\\\\COMPUTER VISION\\\\Projects\\\\License Plate Detector\\\\yolo-license-plate-detection\\\\License Plate Detector 2\\\\train\\\\images\\\\Car-20License-20Plate-20designs_-20themes_-20templates-20and-20do_jpg.rf.e1a27554cd7a22d561b49bb1154b6a7e.jpg'\n",
      "\u001b[34m\u001b[1mtrain: \u001b[0mWARNING  C:\\Users\\santi\\Desktop\\PROGRAMACION\\COMPUTER VISION\\Projects\\License Plate Detector\\yolo-license-plate-detection\\License Plate Detector 2\\train\\images\\Car-20License-20Plate-20designs_-20themes_-20templates-20and-20do_png_jpg.rf.a3c25a69cc392259d2281a76ce54169d.jpg: ignoring corrupt image/label: [Errno 2] No such file or directory: 'C:\\\\Users\\\\santi\\\\Desktop\\\\PROGRAMACION\\\\COMPUTER VISION\\\\Projects\\\\License Plate Detector\\\\yolo-license-plate-detection\\\\License Plate Detector 2\\\\train\\\\images\\\\Car-20License-20Plate-20designs_-20themes_-20templates-20and-20do_png_jpg.rf.a3c25a69cc392259d2281a76ce54169d.jpg'\n",
      "\u001b[34m\u001b[1mtrain: \u001b[0mWARNING  C:\\Users\\santi\\Desktop\\PROGRAMACION\\COMPUTER VISION\\Projects\\License Plate Detector\\yolo-license-plate-detection\\License Plate Detector 2\\train\\images\\Car-20license-20plate-20canada-20hi-res-20stock-20photography-20a_jpg.rf.fc76ba42ee37e2b56db1690e1af97ace.jpg: ignoring corrupt image/label: [Errno 2] No such file or directory: 'C:\\\\Users\\\\santi\\\\Desktop\\\\PROGRAMACION\\\\COMPUTER VISION\\\\Projects\\\\License Plate Detector\\\\yolo-license-plate-detection\\\\License Plate Detector 2\\\\train\\\\images\\\\Car-20license-20plate-20canada-20hi-res-20stock-20photography-20a_jpg.rf.fc76ba42ee37e2b56db1690e1af97ace.jpg'\n",
      "\u001b[34m\u001b[1mtrain: \u001b[0mWARNING  C:\\Users\\santi\\Desktop\\PROGRAMACION\\COMPUTER VISION\\Projects\\License Plate Detector\\yolo-license-plate-detection\\License Plate Detector 2\\train\\images\\Car-20license-20plate-20hi-res-20stock-20photography-20and-20imag_jpg.rf.20634283ce666e00826e5b53246b798e.jpg: ignoring corrupt image/label: [Errno 2] No such file or directory: 'C:\\\\Users\\\\santi\\\\Desktop\\\\PROGRAMACION\\\\COMPUTER VISION\\\\Projects\\\\License Plate Detector\\\\yolo-license-plate-detection\\\\License Plate Detector 2\\\\train\\\\images\\\\Car-20license-20plate-20hi-res-20stock-20photography-20and-20imag_jpg.rf.20634283ce666e00826e5b53246b798e.jpg'\n",
      "\u001b[34m\u001b[1mtrain: \u001b[0mWARNING  C:\\Users\\santi\\Desktop\\PROGRAMACION\\COMPUTER VISION\\Projects\\License Plate Detector\\yolo-license-plate-detection\\License Plate Detector 2\\train\\images\\Cheap-20automatic-20license-20plate-20readers-20are-20creeping_jpeg_jpg.rf.8c552604ee2174d2f77bb22c4d44f9fb.jpg: ignoring corrupt image/label: [Errno 2] No such file or directory: 'C:\\\\Users\\\\santi\\\\Desktop\\\\PROGRAMACION\\\\COMPUTER VISION\\\\Projects\\\\License Plate Detector\\\\yolo-license-plate-detection\\\\License Plate Detector 2\\\\train\\\\images\\\\Cheap-20automatic-20license-20plate-20readers-20are-20creeping_jpeg_jpg.rf.8c552604ee2174d2f77bb22c4d44f9fb.jpg'\n",
      "\u001b[34m\u001b[1mtrain: \u001b[0mWARNING  C:\\Users\\santi\\Desktop\\PROGRAMACION\\COMPUTER VISION\\Projects\\License Plate Detector\\yolo-license-plate-detection\\License Plate Detector 2\\train\\images\\Custom-20Kids_-20Tesla-20Model-20S-20Car-20License-20Plate_yythkg_jpg.rf.a2dcb159fe610c232ce1dda6b6612919.jpg: ignoring corrupt image/label: [Errno 2] No such file or directory: 'C:\\\\Users\\\\santi\\\\Desktop\\\\PROGRAMACION\\\\COMPUTER VISION\\\\Projects\\\\License Plate Detector\\\\yolo-license-plate-detection\\\\License Plate Detector 2\\\\train\\\\images\\\\Custom-20Kids_-20Tesla-20Model-20S-20Car-20License-20Plate_yythkg_jpg.rf.a2dcb159fe610c232ce1dda6b6612919.jpg'\n",
      "\u001b[34m\u001b[1mtrain: \u001b[0mWARNING  C:\\Users\\santi\\Desktop\\PROGRAMACION\\COMPUTER VISION\\Projects\\License Plate Detector\\yolo-license-plate-detection\\License Plate Detector 2\\train\\images\\Detect-20and-20Recognize-20Vehicle_s-20License-20Plate-20with-20M_jpeg_jpg.rf.0a53f886b9d17e2819826f594758fb00.jpg: ignoring corrupt image/label: [Errno 2] No such file or directory: 'C:\\\\Users\\\\santi\\\\Desktop\\\\PROGRAMACION\\\\COMPUTER VISION\\\\Projects\\\\License Plate Detector\\\\yolo-license-plate-detection\\\\License Plate Detector 2\\\\train\\\\images\\\\Detect-20and-20Recognize-20Vehicle_s-20License-20Plate-20with-20M_jpeg_jpg.rf.0a53f886b9d17e2819826f594758fb00.jpg'\n",
      "\u001b[34m\u001b[1mtrain: \u001b[0mWARNING  C:\\Users\\santi\\Desktop\\PROGRAMACION\\COMPUTER VISION\\Projects\\License Plate Detector\\yolo-license-plate-detection\\License Plate Detector 2\\train\\images\\Digital-20License-20Plates-20Roll-20Out-20In-20California-20__yyt_jpg.rf.1615da3531ef28a3c4f24ac174fca731.jpg: ignoring corrupt image/label: [Errno 2] No such file or directory: 'C:\\\\Users\\\\santi\\\\Desktop\\\\PROGRAMACION\\\\COMPUTER VISION\\\\Projects\\\\License Plate Detector\\\\yolo-license-plate-detection\\\\License Plate Detector 2\\\\train\\\\images\\\\Digital-20License-20Plates-20Roll-20Out-20In-20California-20__yyt_jpg.rf.1615da3531ef28a3c4f24ac174fca731.jpg'\n",
      "\u001b[34m\u001b[1mtrain: \u001b[0mWARNING  C:\\Users\\santi\\Desktop\\PROGRAMACION\\COMPUTER VISION\\Projects\\License Plate Detector\\yolo-license-plate-detection\\License Plate Detector 2\\train\\images\\Driver-20gets-20_110-20ticket-20for-20not-20having-20front_yythkg_jpg.rf.781521f3d674914407b8980f1212bdaa.jpg: ignoring corrupt image/label: [Errno 2] No such file or directory: 'C:\\\\Users\\\\santi\\\\Desktop\\\\PROGRAMACION\\\\COMPUTER VISION\\\\Projects\\\\License Plate Detector\\\\yolo-license-plate-detection\\\\License Plate Detector 2\\\\train\\\\images\\\\Driver-20gets-20_110-20ticket-20for-20not-20having-20front_yythkg_jpg.rf.781521f3d674914407b8980f1212bdaa.jpg'\n",
      "\u001b[34m\u001b[1mtrain: \u001b[0mWARNING  C:\\Users\\santi\\Desktop\\PROGRAMACION\\COMPUTER VISION\\Projects\\License Plate Detector\\yolo-license-plate-detection\\License Plate Detector 2\\train\\images\\File_Car-20with-20export-20license-20plate-20of-20Finland-jpg-20-_jpg.rf.66821024bf64e51b84a9462d64e09152.jpg: ignoring corrupt image/label: [Errno 2] No such file or directory: 'C:\\\\Users\\\\santi\\\\Desktop\\\\PROGRAMACION\\\\COMPUTER VISION\\\\Projects\\\\License Plate Detector\\\\yolo-license-plate-detection\\\\License Plate Detector 2\\\\train\\\\images\\\\File_Car-20with-20export-20license-20plate-20of-20Finland-jpg-20-_jpg.rf.66821024bf64e51b84a9462d64e09152.jpg'\n",
      "\u001b[34m\u001b[1mtrain: \u001b[0mWARNING  C:\\Users\\santi\\Desktop\\PROGRAMACION\\COMPUTER VISION\\Projects\\License Plate Detector\\yolo-license-plate-detection\\License Plate Detector 2\\train\\images\\Front-20licence-20plates-20will-20be-20scrapped-20by-20July_yythk_jpg.rf.2539d0a32ca7bf8ee596cc5c39ef8944.jpg: ignoring corrupt image/label: [Errno 2] No such file or directory: 'C:\\\\Users\\\\santi\\\\Desktop\\\\PROGRAMACION\\\\COMPUTER VISION\\\\Projects\\\\License Plate Detector\\\\yolo-license-plate-detection\\\\License Plate Detector 2\\\\train\\\\images\\\\Front-20licence-20plates-20will-20be-20scrapped-20by-20July_yythk_jpg.rf.2539d0a32ca7bf8ee596cc5c39ef8944.jpg'\n",
      "\u001b[34m\u001b[1mtrain: \u001b[0mWARNING  C:\\Users\\santi\\Desktop\\PROGRAMACION\\COMPUTER VISION\\Projects\\License Plate Detector\\yolo-license-plate-detection\\License Plate Detector 2\\train\\images\\GR86-20front-20license-20plate-20debacle_-20once-20installed_-20d_jpg.rf.b969a46d09fee6b0b3f9dc102c58afd2.jpg: ignoring corrupt image/label: [Errno 2] No such file or directory: 'C:\\\\Users\\\\santi\\\\Desktop\\\\PROGRAMACION\\\\COMPUTER VISION\\\\Projects\\\\License Plate Detector\\\\yolo-license-plate-detection\\\\License Plate Detector 2\\\\train\\\\images\\\\GR86-20front-20license-20plate-20debacle_-20once-20installed_-20d_jpg.rf.b969a46d09fee6b0b3f9dc102c58afd2.jpg'\n",
      "\u001b[34m\u001b[1mtrain: \u001b[0mWARNING  C:\\Users\\santi\\Desktop\\PROGRAMACION\\COMPUTER VISION\\Projects\\License Plate Detector\\yolo-license-plate-detection\\License Plate Detector 2\\train\\images\\Here_s-20Why-20You-20Should-20Remove-20Your-20Car_s-20Plates_yyth-20-1-_jpg.rf.ff99e4da923425a1530058ca388cccc8.jpg: ignoring corrupt image/label: [Errno 2] No such file or directory: 'C:\\\\Users\\\\santi\\\\Desktop\\\\PROGRAMACION\\\\COMPUTER VISION\\\\Projects\\\\License Plate Detector\\\\yolo-license-plate-detection\\\\License Plate Detector 2\\\\train\\\\images\\\\Here_s-20Why-20You-20Should-20Remove-20Your-20Car_s-20Plates_yyth-20-1-_jpg.rf.ff99e4da923425a1530058ca388cccc8.jpg'\n",
      "\u001b[34m\u001b[1mtrain: \u001b[0mWARNING  C:\\Users\\santi\\Desktop\\PROGRAMACION\\COMPUTER VISION\\Projects\\License Plate Detector\\yolo-license-plate-detection\\License Plate Detector 2\\train\\images\\Here_s-20Why-20You-20Should-20Remove-20Your-20Car_s-20Plates_yyth_jpg.rf.f2c42b1b833fcf6c134b735d1efcfd27.jpg: ignoring corrupt image/label: [Errno 2] No such file or directory: 'C:\\\\Users\\\\santi\\\\Desktop\\\\PROGRAMACION\\\\COMPUTER VISION\\\\Projects\\\\License Plate Detector\\\\yolo-license-plate-detection\\\\License Plate Detector 2\\\\train\\\\images\\\\Here_s-20Why-20You-20Should-20Remove-20Your-20Car_s-20Plates_yyth_jpg.rf.f2c42b1b833fcf6c134b735d1efcfd27.jpg'\n",
      "\u001b[34m\u001b[1mtrain: \u001b[0mWARNING  C:\\Users\\santi\\Desktop\\PROGRAMACION\\COMPUTER VISION\\Projects\\License Plate Detector\\yolo-license-plate-detection\\License Plate Detector 2\\train\\images\\Here_s-20why-20you_re-20seeing-20those-20black-20and-20yellow_yyt_jpg.rf.8230f67c563383b5bb0eb5bc15c7687f.jpg: ignoring corrupt image/label: [Errno 2] No such file or directory: 'C:\\\\Users\\\\santi\\\\Desktop\\\\PROGRAMACION\\\\COMPUTER VISION\\\\Projects\\\\License Plate Detector\\\\yolo-license-plate-detection\\\\License Plate Detector 2\\\\train\\\\images\\\\Here_s-20why-20you_re-20seeing-20those-20black-20and-20yellow_yyt_jpg.rf.8230f67c563383b5bb0eb5bc15c7687f.jpg'\n",
      "\u001b[34m\u001b[1mtrain: \u001b[0mWARNING  C:\\Users\\santi\\Desktop\\PROGRAMACION\\COMPUTER VISION\\Projects\\License Plate Detector\\yolo-license-plate-detection\\License Plate Detector 2\\train\\images\\How-20to-20Decode-20California-20License-20Plates-20_-20Car_yythk_jpg.rf.ca3204a69f6a13f07da875640ea48a24.jpg: ignoring corrupt image/label: [Errno 2] No such file or directory: 'C:\\\\Users\\\\santi\\\\Desktop\\\\PROGRAMACION\\\\COMPUTER VISION\\\\Projects\\\\License Plate Detector\\\\yolo-license-plate-detection\\\\License Plate Detector 2\\\\train\\\\images\\\\How-20to-20Decode-20California-20License-20Plates-20_-20Car_yythk_jpg.rf.ca3204a69f6a13f07da875640ea48a24.jpg'\n",
      "\u001b[34m\u001b[1mtrain: \u001b[0mWARNING  C:\\Users\\santi\\Desktop\\PROGRAMACION\\COMPUTER VISION\\Projects\\License Plate Detector\\yolo-license-plate-detection\\License Plate Detector 2\\train\\images\\How-20to-20Feng-20Shui-20Your-20Car_s-20Plate-20Numbers-20fo-20-1-_jpg.rf.d381a5ae932823212403c4ee83a9da98.jpg: ignoring corrupt image/label: [Errno 2] No such file or directory: 'C:\\\\Users\\\\santi\\\\Desktop\\\\PROGRAMACION\\\\COMPUTER VISION\\\\Projects\\\\License Plate Detector\\\\yolo-license-plate-detection\\\\License Plate Detector 2\\\\train\\\\images\\\\How-20to-20Feng-20Shui-20Your-20Car_s-20Plate-20Numbers-20fo-20-1-_jpg.rf.d381a5ae932823212403c4ee83a9da98.jpg'\n",
      "\u001b[34m\u001b[1mtrain: \u001b[0mWARNING  C:\\Users\\santi\\Desktop\\PROGRAMACION\\COMPUTER VISION\\Projects\\License Plate Detector\\yolo-license-plate-detection\\License Plate Detector 2\\train\\images\\How-20to-20Transfer-20Your-20License-20Plate-20Number-20From_yyth_jpg.rf.329a79ee4149e670046fbd69621296be.jpg: ignoring corrupt image/label: [Errno 2] No such file or directory: 'C:\\\\Users\\\\santi\\\\Desktop\\\\PROGRAMACION\\\\COMPUTER VISION\\\\Projects\\\\License Plate Detector\\\\yolo-license-plate-detection\\\\License Plate Detector 2\\\\train\\\\images\\\\How-20to-20Transfer-20Your-20License-20Plate-20Number-20From_yyth_jpg.rf.329a79ee4149e670046fbd69621296be.jpg'\n",
      "\u001b[34m\u001b[1mtrain: \u001b[0mWARNING  C:\\Users\\santi\\Desktop\\PROGRAMACION\\COMPUTER VISION\\Projects\\License Plate Detector\\yolo-license-plate-detection\\License Plate Detector 2\\train\\images\\If-20you-20need-20a-20front-20license-20plate_-20here_s-20ho_jpeg_jpg.rf.f361a53866e2814c44eaa1328771e346.jpg: ignoring corrupt image/label: [Errno 2] No such file or directory: 'C:\\\\Users\\\\santi\\\\Desktop\\\\PROGRAMACION\\\\COMPUTER VISION\\\\Projects\\\\License Plate Detector\\\\yolo-license-plate-detection\\\\License Plate Detector 2\\\\train\\\\images\\\\If-20you-20need-20a-20front-20license-20plate_-20here_s-20ho_jpeg_jpg.rf.f361a53866e2814c44eaa1328771e346.jpg'\n",
      "\u001b[34m\u001b[1mtrain: \u001b[0mWARNING  C:\\Users\\santi\\Desktop\\PROGRAMACION\\COMPUTER VISION\\Projects\\License Plate Detector\\yolo-license-plate-detection\\License Plate Detector 2\\train\\images\\In-20Cars-20-2006-_-20Luigi_s-20license-20plate-20is-20445-108__y_png_jpg.rf.7607933ab5580e0587c75a20249e2fbe.jpg: ignoring corrupt image/label: [Errno 2] No such file or directory: 'C:\\\\Users\\\\santi\\\\Desktop\\\\PROGRAMACION\\\\COMPUTER VISION\\\\Projects\\\\License Plate Detector\\\\yolo-license-plate-detection\\\\License Plate Detector 2\\\\train\\\\images\\\\In-20Cars-20-2006-_-20Luigi_s-20license-20plate-20is-20445-108__y_png_jpg.rf.7607933ab5580e0587c75a20249e2fbe.jpg'\n",
      "\u001b[34m\u001b[1mtrain: \u001b[0mWARNING  C:\\Users\\santi\\Desktop\\PROGRAMACION\\COMPUTER VISION\\Projects\\License Plate Detector\\yolo-license-plate-detection\\License Plate Detector 2\\train\\images\\Licence-20plate-20thieves-20use-20expired-20plates-20to-20cover_y_jpg.rf.dfa3bebc2cb63f5ba6e8ab8e7e864a24.jpg: ignoring corrupt image/label: [Errno 2] No such file or directory: 'C:\\\\Users\\\\santi\\\\Desktop\\\\PROGRAMACION\\\\COMPUTER VISION\\\\Projects\\\\License Plate Detector\\\\yolo-license-plate-detection\\\\License Plate Detector 2\\\\train\\\\images\\\\Licence-20plate-20thieves-20use-20expired-20plates-20to-20cover_y_jpg.rf.dfa3bebc2cb63f5ba6e8ab8e7e864a24.jpg'\n",
      "\u001b[34m\u001b[1mtrain: \u001b[0mWARNING  C:\\Users\\santi\\Desktop\\PROGRAMACION\\COMPUTER VISION\\Projects\\License Plate Detector\\yolo-license-plate-detection\\License Plate Detector 2\\train\\images\\e5acmg4xmaazlkm5290382797_t800_hddcfb46386d84d7bc1fafdfd581242369bd45de3_jpg.rf.e7cdb3c4b470b7580a287b948111828f.jpg: ignoring corrupt image/label: [Errno 2] No such file or directory: 'C:\\\\Users\\\\santi\\\\Desktop\\\\PROGRAMACION\\\\COMPUTER VISION\\\\Projects\\\\License Plate Detector\\\\yolo-license-plate-detection\\\\License Plate Detector 2\\\\train\\\\images\\\\e5acmg4xmaazlkm5290382797_t800_hddcfb46386d84d7bc1fafdfd581242369bd45de3_jpg.rf.e7cdb3c4b470b7580a287b948111828f.jpg'\n",
      "\u001b[34m\u001b[1mtrain: \u001b[0mWARNING  C:\\Users\\santi\\Desktop\\PROGRAMACION\\COMPUTER VISION\\Projects\\License Plate Detector\\yolo-license-plate-detection\\License Plate Detector 2\\train\\images\\mbinations-on-vehicle-license-plates-taipei-shutterstock-editorial-10753910g_jpg.rf.28745c616845c21e1e6163bad9b28a2c.jpg: ignoring corrupt image/label: [Errno 2] No such file or directory: 'C:\\\\Users\\\\santi\\\\Desktop\\\\PROGRAMACION\\\\COMPUTER VISION\\\\Projects\\\\License Plate Detector\\\\yolo-license-plate-detection\\\\License Plate Detector 2\\\\train\\\\images\\\\mbinations-on-vehicle-license-plates-taipei-shutterstock-editorial-10753910g_jpg.rf.28745c616845c21e1e6163bad9b28a2c.jpg'\n",
      "\u001b[34m\u001b[1mtrain: \u001b[0mWARNING  C:\\Users\\santi\\Desktop\\PROGRAMACION\\COMPUTER VISION\\Projects\\License Plate Detector\\yolo-license-plate-detection\\License Plate Detector 2\\train\\images\\the-license-plate-on-the-first-2013-cadillac-ats-available-news-photo-1599402276_jpg.rf.5656229d2267d5f0e8789e98b38ccfd2.jpg: ignoring corrupt image/label: [Errno 2] No such file or directory: 'C:\\\\Users\\\\santi\\\\Desktop\\\\PROGRAMACION\\\\COMPUTER VISION\\\\Projects\\\\License Plate Detector\\\\yolo-license-plate-detection\\\\License Plate Detector 2\\\\train\\\\images\\\\the-license-plate-on-the-first-2013-cadillac-ats-available-news-photo-1599402276_jpg.rf.5656229d2267d5f0e8789e98b38ccfd2.jpg'\n"
     ]
    },
    {
     "name": "stderr",
     "output_type": "stream",
     "text": [
      "\n",
      "\u001b[34m\u001b[1mtrain: \u001b[0mCaching images (8.0GB disk): 100%|██████████| 7018/7018 [00:00<00:00, 24200.08it/s]\n",
      "\u001b[34m\u001b[1mval: \u001b[0mScanning C:\\Users\\santi\\Desktop\\PROGRAMACION\\COMPUTER VISION\\Projects\\License Plate Detector\\yolo-license-plate-detection\\License Plate Detector 2\\valid\\labels.cache... 2033 images, 3 backgrounds, 15 corrupt: 100%|██████████| 2048/2048 [00:00<?, ?it/s]"
     ]
    },
    {
     "name": "stdout",
     "output_type": "stream",
     "text": [
      "\u001b[34m\u001b[1mval: \u001b[0mWARNING  C:\\Users\\santi\\Desktop\\PROGRAMACION\\COMPUTER VISION\\Projects\\License Plate Detector\\yolo-license-plate-detection\\License Plate Detector 2\\valid\\images\\43-placa-mexicana-del-estado-de-guerrero-1994-vv4-D_NQ_NP_3941-MLM4882174000_082013-F_jpg.rf.e99ca1f239832153f3cc63478436c9e1.jpg: ignoring corrupt image/label: [Errno 2] No such file or directory: 'C:\\\\Users\\\\santi\\\\Desktop\\\\PROGRAMACION\\\\COMPUTER VISION\\\\Projects\\\\License Plate Detector\\\\yolo-license-plate-detection\\\\License Plate Detector 2\\\\valid\\\\images\\\\43-placa-mexicana-del-estado-de-guerrero-1994-vv4-D_NQ_NP_3941-MLM4882174000_082013-F_jpg.rf.e99ca1f239832153f3cc63478436c9e1.jpg'\n",
      "\u001b[34m\u001b[1mval: \u001b[0mWARNING  C:\\Users\\santi\\Desktop\\PROGRAMACION\\COMPUTER VISION\\Projects\\License Plate Detector\\yolo-license-plate-detection\\License Plate Detector 2\\valid\\images\\59-1280px-ILLINOIS_1959_LICENSE_PLATE_282-662_-_Flickr_-_woody1778a_jpg.rf.ef1ec1d6687f3785d873415a20ebd5cc.jpg: ignoring corrupt image/label: [Errno 2] No such file or directory: 'C:\\\\Users\\\\santi\\\\Desktop\\\\PROGRAMACION\\\\COMPUTER VISION\\\\Projects\\\\License Plate Detector\\\\yolo-license-plate-detection\\\\License Plate Detector 2\\\\valid\\\\images\\\\59-1280px-ILLINOIS_1959_LICENSE_PLATE_282-662_-_Flickr_-_woody1778a_jpg.rf.ef1ec1d6687f3785d873415a20ebd5cc.jpg'\n",
      "\u001b[34m\u001b[1mval: \u001b[0mWARNING  C:\\Users\\santi\\Desktop\\PROGRAMACION\\COMPUTER VISION\\Projects\\License Plate Detector\\yolo-license-plate-detection\\License Plate Detector 2\\valid\\images\\83-Acapulco-2BGuerrero-2BPlaca-2BUso-2BOficial-2BH-2BAyuntamiento-2BConstitucional-2B2002-2BAU99999_jpg.rf.2b92ca9d7e5ca9ddb27f8c284f0fd10e.jpg: ignoring corrupt image/label: [Errno 2] No such file or directory: 'C:\\\\Users\\\\santi\\\\Desktop\\\\PROGRAMACION\\\\COMPUTER VISION\\\\Projects\\\\License Plate Detector\\\\yolo-license-plate-detection\\\\License Plate Detector 2\\\\valid\\\\images\\\\83-Acapulco-2BGuerrero-2BPlaca-2BUso-2BOficial-2BH-2BAyuntamiento-2BConstitucional-2B2002-2BAU99999_jpg.rf.2b92ca9d7e5ca9ddb27f8c284f0fd10e.jpg'\n",
      "\u001b[34m\u001b[1mval: \u001b[0mWARNING  C:\\Users\\santi\\Desktop\\PROGRAMACION\\COMPUTER VISION\\Projects\\License Plate Detector\\yolo-license-plate-detection\\License Plate Detector 2\\valid\\images\\94-1200px-2000_Victoria_registration_plate_YVO_454_The_Place_to_Be_jpg.rf.2ad9d004cc5ad7e4bb2b719e85e59ad8.jpg: ignoring corrupt image/label: [Errno 2] No such file or directory: 'C:\\\\Users\\\\santi\\\\Desktop\\\\PROGRAMACION\\\\COMPUTER VISION\\\\Projects\\\\License Plate Detector\\\\yolo-license-plate-detection\\\\License Plate Detector 2\\\\valid\\\\images\\\\94-1200px-2000_Victoria_registration_plate_YVO_454_The_Place_to_Be_jpg.rf.2ad9d004cc5ad7e4bb2b719e85e59ad8.jpg'\n",
      "\u001b[34m\u001b[1mval: \u001b[0mWARNING  C:\\Users\\santi\\Desktop\\PROGRAMACION\\COMPUTER VISION\\Projects\\License Plate Detector\\yolo-license-plate-detection\\License Plate Detector 2\\valid\\images\\97-800px-MONTANA_2004_LICENSE_PLATE_-2-A50962_-_Flickr_-_woody1778a_jpg.rf.e1341517a28d84ea80487545fc0a6fd7.jpg: ignoring corrupt image/label: [Errno 2] No such file or directory: 'C:\\\\Users\\\\santi\\\\Desktop\\\\PROGRAMACION\\\\COMPUTER VISION\\\\Projects\\\\License Plate Detector\\\\yolo-license-plate-detection\\\\License Plate Detector 2\\\\valid\\\\images\\\\97-800px-MONTANA_2004_LICENSE_PLATE_-2-A50962_-_Flickr_-_woody1778a_jpg.rf.e1341517a28d84ea80487545fc0a6fd7.jpg'\n",
      "\u001b[34m\u001b[1mval: \u001b[0mWARNING  C:\\Users\\santi\\Desktop\\PROGRAMACION\\COMPUTER VISION\\Projects\\License Plate Detector\\yolo-license-plate-detection\\License Plate Detector 2\\valid\\images\\All-2050-20U-S-20license-20plates_-20ranked-20from-20best_yythkg-20-1-_jpg.rf.f84a50d5206aa352cf44d8b7822962c5.jpg: ignoring corrupt image/label: [Errno 2] No such file or directory: 'C:\\\\Users\\\\santi\\\\Desktop\\\\PROGRAMACION\\\\COMPUTER VISION\\\\Projects\\\\License Plate Detector\\\\yolo-license-plate-detection\\\\License Plate Detector 2\\\\valid\\\\images\\\\All-2050-20U-S-20license-20plates_-20ranked-20from-20best_yythkg-20-1-_jpg.rf.f84a50d5206aa352cf44d8b7822962c5.jpg'\n",
      "\u001b[34m\u001b[1mval: \u001b[0mWARNING  C:\\Users\\santi\\Desktop\\PROGRAMACION\\COMPUTER VISION\\Projects\\License Plate Detector\\yolo-license-plate-detection\\License Plate Detector 2\\valid\\images\\Canadian-20license-20plate-20hi-res-20stock-20photography-20and_yythkg_jpg.rf.67118bea92f89ca253492c853730ac35.jpg: ignoring corrupt image/label: [Errno 2] No such file or directory: 'C:\\\\Users\\\\santi\\\\Desktop\\\\PROGRAMACION\\\\COMPUTER VISION\\\\Projects\\\\License Plate Detector\\\\yolo-license-plate-detection\\\\License Plate Detector 2\\\\valid\\\\images\\\\Canadian-20license-20plate-20hi-res-20stock-20photography-20and_yythkg_jpg.rf.67118bea92f89ca253492c853730ac35.jpg'\n",
      "\u001b[34m\u001b[1mval: \u001b[0mWARNING  C:\\Users\\santi\\Desktop\\PROGRAMACION\\COMPUTER VISION\\Projects\\License Plate Detector\\yolo-license-plate-detection\\License Plate Detector 2\\valid\\images\\Custom-20License-20Plate-20_-20Vanity-20License-20Plates-20-E2-80-93_yyth_jpg.rf.e56a605b84b86feb62538c6ffd2f65cf.jpg: ignoring corrupt image/label: [Errno 2] No such file or directory: 'C:\\\\Users\\\\santi\\\\Desktop\\\\PROGRAMACION\\\\COMPUTER VISION\\\\Projects\\\\License Plate Detector\\\\yolo-license-plate-detection\\\\License Plate Detector 2\\\\valid\\\\images\\\\Custom-20License-20Plate-20_-20Vanity-20License-20Plates-20-E2-80-93_yyth_jpg.rf.e56a605b84b86feb62538c6ffd2f65cf.jpg'\n",
      "\u001b[34m\u001b[1mval: \u001b[0mWARNING  C:\\Users\\santi\\Desktop\\PROGRAMACION\\COMPUTER VISION\\Projects\\License Plate Detector\\yolo-license-plate-detection\\License Plate Detector 2\\valid\\images\\Detect-20and-20Recognize-20Car-20License-20Plate-20from-20a_yythk_jpg.rf.293966e8a2e26cd0f88f7f0fa6509ef0.jpg: ignoring corrupt image/label: [Errno 2] No such file or directory: 'C:\\\\Users\\\\santi\\\\Desktop\\\\PROGRAMACION\\\\COMPUTER VISION\\\\Projects\\\\License Plate Detector\\\\yolo-license-plate-detection\\\\License Plate Detector 2\\\\valid\\\\images\\\\Detect-20and-20Recognize-20Car-20License-20Plate-20from-20a_yythk_jpg.rf.293966e8a2e26cd0f88f7f0fa6509ef0.jpg'\n",
      "\u001b[34m\u001b[1mval: \u001b[0mWARNING  C:\\Users\\santi\\Desktop\\PROGRAMACION\\COMPUTER VISION\\Projects\\License Plate Detector\\yolo-license-plate-detection\\License Plate Detector 2\\valid\\images\\High-20Definition-20License-20Plate-20Sheeting-20_-203M-20US_jpeg_jpg.rf.dcd321dc70225c9f5e956296e44243c3.jpg: ignoring corrupt image/label: [Errno 2] No such file or directory: 'C:\\\\Users\\\\santi\\\\Desktop\\\\PROGRAMACION\\\\COMPUTER VISION\\\\Projects\\\\License Plate Detector\\\\yolo-license-plate-detection\\\\License Plate Detector 2\\\\valid\\\\images\\\\High-20Definition-20License-20Plate-20Sheeting-20_-203M-20US_jpeg_jpg.rf.dcd321dc70225c9f5e956296e44243c3.jpg'\n",
      "\u001b[34m\u001b[1mval: \u001b[0mWARNING  C:\\Users\\santi\\Desktop\\PROGRAMACION\\COMPUTER VISION\\Projects\\License Plate Detector\\yolo-license-plate-detection\\License Plate Detector 2\\valid\\images\\How-20License-20Plate-20Recognition-20Technology-20Works-20Examples_y_png_jpg.rf.802cc18081ecf8b90f5aaf4a10ad99c9.jpg: ignoring corrupt image/label: [Errno 2] No such file or directory: 'C:\\\\Users\\\\santi\\\\Desktop\\\\PROGRAMACION\\\\COMPUTER VISION\\\\Projects\\\\License Plate Detector\\\\yolo-license-plate-detection\\\\License Plate Detector 2\\\\valid\\\\images\\\\How-20License-20Plate-20Recognition-20Technology-20Works-20Examples_y_png_jpg.rf.802cc18081ecf8b90f5aaf4a10ad99c9.jpg'\n",
      "\u001b[34m\u001b[1mval: \u001b[0mWARNING  C:\\Users\\santi\\Desktop\\PROGRAMACION\\COMPUTER VISION\\Projects\\License Plate Detector\\yolo-license-plate-detection\\License Plate Detector 2\\valid\\images\\How-20to-20Remove-20a-20License-20Plate_-209-20Steps-20-with_jpeg_jpg.rf.4886a37159a56bc8f26e9fb2d28d8298.jpg: ignoring corrupt image/label: [Errno 2] No such file or directory: 'C:\\\\Users\\\\santi\\\\Desktop\\\\PROGRAMACION\\\\COMPUTER VISION\\\\Projects\\\\License Plate Detector\\\\yolo-license-plate-detection\\\\License Plate Detector 2\\\\valid\\\\images\\\\How-20to-20Remove-20a-20License-20Plate_-209-20Steps-20-with_jpeg_jpg.rf.4886a37159a56bc8f26e9fb2d28d8298.jpg'\n",
      "\u001b[34m\u001b[1mval: \u001b[0mWARNING  C:\\Users\\santi\\Desktop\\PROGRAMACION\\COMPUTER VISION\\Projects\\License Plate Detector\\yolo-license-plate-detection\\License Plate Detector 2\\valid\\images\\JDM-20License-20Plate_-20The-20Complete-20Introduction-20-Japanese_yyt_jpg.rf.e6d310f382032935ae9ff98bc159f468.jpg: ignoring corrupt image/label: [Errno 2] No such file or directory: 'C:\\\\Users\\\\santi\\\\Desktop\\\\PROGRAMACION\\\\COMPUTER VISION\\\\Projects\\\\License Plate Detector\\\\yolo-license-plate-detection\\\\License Plate Detector 2\\\\valid\\\\images\\\\JDM-20License-20Plate_-20The-20Complete-20Introduction-20-Japanese_yyt_jpg.rf.e6d310f382032935ae9ff98bc159f468.jpg'\n",
      "\u001b[34m\u001b[1mval: \u001b[0mWARNING  C:\\Users\\santi\\Desktop\\PROGRAMACION\\COMPUTER VISION\\Projects\\License Plate Detector\\yolo-license-plate-detection\\License Plate Detector 2\\valid\\images\\german-car-registration-license-plate-cologne-koln-germany-europe-C6ENJN_jpg.rf.774721f5b5d90f1d3e99644fef8f371d.jpg: ignoring corrupt image/label: [Errno 2] No such file or directory: 'C:\\\\Users\\\\santi\\\\Desktop\\\\PROGRAMACION\\\\COMPUTER VISION\\\\Projects\\\\License Plate Detector\\\\yolo-license-plate-detection\\\\License Plate Detector 2\\\\valid\\\\images\\\\german-car-registration-license-plate-cologne-koln-germany-europe-C6ENJN_jpg.rf.774721f5b5d90f1d3e99644fef8f371d.jpg'\n",
      "\u001b[34m\u001b[1mval: \u001b[0mWARNING  C:\\Users\\santi\\Desktop\\PROGRAMACION\\COMPUTER VISION\\Projects\\License Plate Detector\\yolo-license-plate-detection\\License Plate Detector 2\\valid\\images\\gettyimages-963767120_wide-7200de8f331eed3cfae99b91fcc95003662a75f6-s1100-c50_jpg.rf.13baf07ec3aee4d746afe2b2dc6dfa83.jpg: ignoring corrupt image/label: [Errno 2] No such file or directory: 'C:\\\\Users\\\\santi\\\\Desktop\\\\PROGRAMACION\\\\COMPUTER VISION\\\\Projects\\\\License Plate Detector\\\\yolo-license-plate-detection\\\\License Plate Detector 2\\\\valid\\\\images\\\\gettyimages-963767120_wide-7200de8f331eed3cfae99b91fcc95003662a75f6-s1100-c50_jpg.rf.13baf07ec3aee4d746afe2b2dc6dfa83.jpg'\n"
     ]
    },
    {
     "name": "stderr",
     "output_type": "stream",
     "text": [
      "\n",
      "\u001b[34m\u001b[1mval: \u001b[0mCaching images (2.3GB disk): 100%|██████████| 2033/2033 [00:00<00:00, 24793.33it/s]\n"
     ]
    },
    {
     "name": "stdout",
     "output_type": "stream",
     "text": [
      "Plotting labels to runs\\detect\\train2\\labels.jpg... \n",
      "\u001b[34m\u001b[1moptimizer:\u001b[0m 'optimizer=auto' found, ignoring 'lr0=0.01' and 'momentum=0.937' and determining best 'optimizer', 'lr0' and 'momentum' automatically... \n",
      "\u001b[34m\u001b[1moptimizer:\u001b[0m AdamW(lr=0.002, momentum=0.9) with parameter groups 57 weight(decay=0.0), 64 weight(decay=0.0005), 63 bias(decay=0.0)\n",
      "\u001b[34m\u001b[1mTensorBoard: \u001b[0mmodel graph visualization added \n",
      "Image sizes 640 train, 640 val\n",
      "Using 2 dataloader workers\n",
      "Logging results to \u001b[1mruns\\detect\\train2\u001b[0m\n",
      "Starting training for 20 epochs...\n",
      "\n",
      "      Epoch    GPU_mem   box_loss   cls_loss   dfl_loss  Instances       Size\n"
     ]
    },
    {
     "name": "stderr",
     "output_type": "stream",
     "text": [
      "       1/20      1.23G       1.29      1.479      1.243          5        640: 100%|██████████| 878/878 [01:34<00:00,  9.33it/s]\n",
      "                 Class     Images  Instances      Box(P          R      mAP50  mAP50-95): 100%|██████████| 128/128 [00:11<00:00, 11.36it/s]\n"
     ]
    },
    {
     "name": "stdout",
     "output_type": "stream",
     "text": [
      "                   all       2033       2118      0.942      0.845      0.913      0.592\n",
      "\n",
      "      Epoch    GPU_mem   box_loss   cls_loss   dfl_loss  Instances       Size\n"
     ]
    },
    {
     "name": "stderr",
     "output_type": "stream",
     "text": [
      "       2/20      1.21G      1.307     0.8992      1.261          1        640: 100%|██████████| 878/878 [01:17<00:00, 11.26it/s]\n",
      "                 Class     Images  Instances      Box(P          R      mAP50  mAP50-95): 100%|██████████| 128/128 [00:10<00:00, 12.35it/s]"
     ]
    },
    {
     "name": "stdout",
     "output_type": "stream",
     "text": [
      "                   all       2033       2118      0.933      0.875      0.931      0.606\n"
     ]
    },
    {
     "name": "stderr",
     "output_type": "stream",
     "text": [
      "\n"
     ]
    },
    {
     "name": "stdout",
     "output_type": "stream",
     "text": [
      "\n",
      "      Epoch    GPU_mem   box_loss   cls_loss   dfl_loss  Instances       Size\n"
     ]
    },
    {
     "name": "stderr",
     "output_type": "stream",
     "text": [
      "       3/20       1.2G      1.303     0.8351      1.254          4        640: 100%|██████████| 878/878 [01:14<00:00, 11.86it/s]\n",
      "                 Class     Images  Instances      Box(P          R      mAP50  mAP50-95): 100%|██████████| 128/128 [00:10<00:00, 12.31it/s]"
     ]
    },
    {
     "name": "stdout",
     "output_type": "stream",
     "text": [
      "                   all       2033       2118      0.934      0.857       0.93       0.58\n"
     ]
    },
    {
     "name": "stderr",
     "output_type": "stream",
     "text": [
      "\n"
     ]
    },
    {
     "name": "stdout",
     "output_type": "stream",
     "text": [
      "\n",
      "      Epoch    GPU_mem   box_loss   cls_loss   dfl_loss  Instances       Size\n"
     ]
    },
    {
     "name": "stderr",
     "output_type": "stream",
     "text": [
      "       4/20       1.2G      1.284     0.7908      1.242          2        640: 100%|██████████| 878/878 [01:13<00:00, 12.02it/s]\n",
      "                 Class     Images  Instances      Box(P          R      mAP50  mAP50-95): 100%|██████████| 128/128 [00:10<00:00, 12.44it/s]"
     ]
    },
    {
     "name": "stdout",
     "output_type": "stream",
     "text": [
      "                   all       2033       2118      0.919      0.908      0.937      0.608\n"
     ]
    },
    {
     "name": "stderr",
     "output_type": "stream",
     "text": [
      "\n"
     ]
    },
    {
     "name": "stdout",
     "output_type": "stream",
     "text": [
      "\n",
      "      Epoch    GPU_mem   box_loss   cls_loss   dfl_loss  Instances       Size\n"
     ]
    },
    {
     "name": "stderr",
     "output_type": "stream",
     "text": [
      "       5/20       1.2G      1.248     0.7373       1.22          2        640: 100%|██████████| 878/878 [01:13<00:00, 11.88it/s]\n",
      "                 Class     Images  Instances      Box(P          R      mAP50  mAP50-95): 100%|██████████| 128/128 [00:10<00:00, 12.32it/s]"
     ]
    },
    {
     "name": "stdout",
     "output_type": "stream",
     "text": [
      "                   all       2033       2118      0.955      0.914      0.958      0.646\n"
     ]
    },
    {
     "name": "stderr",
     "output_type": "stream",
     "text": [
      "\n"
     ]
    },
    {
     "name": "stdout",
     "output_type": "stream",
     "text": [
      "\n",
      "      Epoch    GPU_mem   box_loss   cls_loss   dfl_loss  Instances       Size\n"
     ]
    },
    {
     "name": "stderr",
     "output_type": "stream",
     "text": [
      "       6/20       1.2G      1.225     0.6979      1.203          2        640: 100%|██████████| 878/878 [01:13<00:00, 11.97it/s]\n",
      "                 Class     Images  Instances      Box(P          R      mAP50  mAP50-95): 100%|██████████| 128/128 [00:10<00:00, 12.27it/s]"
     ]
    },
    {
     "name": "stdout",
     "output_type": "stream",
     "text": [
      "                   all       2033       2118      0.969      0.902      0.951      0.638\n"
     ]
    },
    {
     "name": "stderr",
     "output_type": "stream",
     "text": [
      "\n"
     ]
    },
    {
     "name": "stdout",
     "output_type": "stream",
     "text": [
      "\n",
      "      Epoch    GPU_mem   box_loss   cls_loss   dfl_loss  Instances       Size\n"
     ]
    },
    {
     "name": "stderr",
     "output_type": "stream",
     "text": [
      "       7/20       1.2G      1.209     0.6698      1.191          7        640: 100%|██████████| 878/878 [01:13<00:00, 11.97it/s]\n",
      "                 Class     Images  Instances      Box(P          R      mAP50  mAP50-95): 100%|██████████| 128/128 [00:10<00:00, 12.04it/s]"
     ]
    },
    {
     "name": "stdout",
     "output_type": "stream",
     "text": [
      "                   all       2033       2118      0.965      0.919       0.96       0.64\n"
     ]
    },
    {
     "name": "stderr",
     "output_type": "stream",
     "text": [
      "\n"
     ]
    },
    {
     "name": "stdout",
     "output_type": "stream",
     "text": [
      "\n",
      "      Epoch    GPU_mem   box_loss   cls_loss   dfl_loss  Instances       Size\n"
     ]
    },
    {
     "name": "stderr",
     "output_type": "stream",
     "text": [
      "       8/20       1.2G      1.197     0.6486      1.183          2        640: 100%|██████████| 878/878 [01:13<00:00, 11.94it/s]\n",
      "                 Class     Images  Instances      Box(P          R      mAP50  mAP50-95): 100%|██████████| 128/128 [00:10<00:00, 12.32it/s]"
     ]
    },
    {
     "name": "stdout",
     "output_type": "stream",
     "text": [
      "                   all       2033       2118      0.951      0.926      0.958      0.646\n"
     ]
    },
    {
     "name": "stderr",
     "output_type": "stream",
     "text": [
      "\n"
     ]
    },
    {
     "name": "stdout",
     "output_type": "stream",
     "text": [
      "\n",
      "      Epoch    GPU_mem   box_loss   cls_loss   dfl_loss  Instances       Size\n"
     ]
    },
    {
     "name": "stderr",
     "output_type": "stream",
     "text": [
      "       9/20       1.2G      1.189     0.6363      1.182          4        640: 100%|██████████| 878/878 [01:13<00:00, 11.88it/s]\n",
      "                 Class     Images  Instances      Box(P          R      mAP50  mAP50-95): 100%|██████████| 128/128 [00:10<00:00, 12.42it/s]"
     ]
    },
    {
     "name": "stdout",
     "output_type": "stream",
     "text": [
      "                   all       2033       2118      0.966      0.933      0.966      0.644\n"
     ]
    },
    {
     "name": "stderr",
     "output_type": "stream",
     "text": [
      "\n"
     ]
    },
    {
     "name": "stdout",
     "output_type": "stream",
     "text": [
      "\n",
      "      Epoch    GPU_mem   box_loss   cls_loss   dfl_loss  Instances       Size\n"
     ]
    },
    {
     "name": "stderr",
     "output_type": "stream",
     "text": [
      "      10/20       1.2G      1.177     0.6226      1.164          3        640: 100%|██████████| 878/878 [01:13<00:00, 11.95it/s]\n",
      "                 Class     Images  Instances      Box(P          R      mAP50  mAP50-95): 100%|██████████| 128/128 [00:10<00:00, 12.36it/s]"
     ]
    },
    {
     "name": "stdout",
     "output_type": "stream",
     "text": [
      "                   all       2033       2118      0.967      0.933       0.97       0.67\n"
     ]
    },
    {
     "name": "stderr",
     "output_type": "stream",
     "text": [
      "\n"
     ]
    },
    {
     "name": "stdout",
     "output_type": "stream",
     "text": [
      "Closing dataloader mosaic\n",
      "\n",
      "      Epoch    GPU_mem   box_loss   cls_loss   dfl_loss  Instances       Size\n"
     ]
    },
    {
     "name": "stderr",
     "output_type": "stream",
     "text": [
      "      11/20       1.2G       1.14     0.5345      1.195          2        640: 100%|██████████| 878/878 [01:13<00:00, 11.93it/s]\n",
      "                 Class     Images  Instances      Box(P          R      mAP50  mAP50-95): 100%|██████████| 128/128 [00:10<00:00, 12.56it/s]"
     ]
    },
    {
     "name": "stdout",
     "output_type": "stream",
     "text": [
      "                   all       2033       2118      0.979      0.933      0.972       0.68\n"
     ]
    },
    {
     "name": "stderr",
     "output_type": "stream",
     "text": [
      "\n"
     ]
    },
    {
     "name": "stdout",
     "output_type": "stream",
     "text": [
      "\n",
      "      Epoch    GPU_mem   box_loss   cls_loss   dfl_loss  Instances       Size\n"
     ]
    },
    {
     "name": "stderr",
     "output_type": "stream",
     "text": [
      "      12/20       1.2G      1.134     0.5184      1.185          2        640: 100%|██████████| 878/878 [01:13<00:00, 11.94it/s]\n",
      "                 Class     Images  Instances      Box(P          R      mAP50  mAP50-95): 100%|██████████| 128/128 [00:10<00:00, 12.38it/s]"
     ]
    },
    {
     "name": "stdout",
     "output_type": "stream",
     "text": [
      "                   all       2033       2118      0.979       0.94      0.975      0.675\n"
     ]
    },
    {
     "name": "stderr",
     "output_type": "stream",
     "text": [
      "\n"
     ]
    },
    {
     "name": "stdout",
     "output_type": "stream",
     "text": [
      "\n",
      "      Epoch    GPU_mem   box_loss   cls_loss   dfl_loss  Instances       Size\n"
     ]
    },
    {
     "name": "stderr",
     "output_type": "stream",
     "text": [
      "      13/20       1.2G      1.118     0.5004      1.172          2        640: 100%|██████████| 878/878 [01:12<00:00, 12.09it/s]\n",
      "                 Class     Images  Instances      Box(P          R      mAP50  mAP50-95): 100%|██████████| 128/128 [00:10<00:00, 12.50it/s]"
     ]
    },
    {
     "name": "stdout",
     "output_type": "stream",
     "text": [
      "                   all       2033       2118      0.975      0.941      0.975      0.677\n"
     ]
    },
    {
     "name": "stderr",
     "output_type": "stream",
     "text": [
      "\n"
     ]
    },
    {
     "name": "stdout",
     "output_type": "stream",
     "text": [
      "\n",
      "      Epoch    GPU_mem   box_loss   cls_loss   dfl_loss  Instances       Size\n"
     ]
    },
    {
     "name": "stderr",
     "output_type": "stream",
     "text": [
      "      14/20       1.2G      1.104     0.4855      1.163          2        640: 100%|██████████| 878/878 [01:13<00:00, 11.97it/s]\n",
      "                 Class     Images  Instances      Box(P          R      mAP50  mAP50-95): 100%|██████████| 128/128 [00:10<00:00, 12.44it/s]"
     ]
    },
    {
     "name": "stdout",
     "output_type": "stream",
     "text": [
      "                   all       2033       2118      0.975      0.945      0.979      0.692\n"
     ]
    },
    {
     "name": "stderr",
     "output_type": "stream",
     "text": [
      "\n"
     ]
    },
    {
     "name": "stdout",
     "output_type": "stream",
     "text": [
      "\n",
      "      Epoch    GPU_mem   box_loss   cls_loss   dfl_loss  Instances       Size\n"
     ]
    },
    {
     "name": "stderr",
     "output_type": "stream",
     "text": [
      "      15/20       1.2G      1.096     0.4724      1.161          2        640: 100%|██████████| 878/878 [01:13<00:00, 11.99it/s]\n",
      "                 Class     Images  Instances      Box(P          R      mAP50  mAP50-95): 100%|██████████| 128/128 [00:10<00:00, 12.21it/s]"
     ]
    },
    {
     "name": "stdout",
     "output_type": "stream",
     "text": [
      "                   all       2033       2118       0.98      0.946      0.979      0.686\n"
     ]
    },
    {
     "name": "stderr",
     "output_type": "stream",
     "text": [
      "\n"
     ]
    },
    {
     "name": "stdout",
     "output_type": "stream",
     "text": [
      "\n",
      "      Epoch    GPU_mem   box_loss   cls_loss   dfl_loss  Instances       Size\n"
     ]
    },
    {
     "name": "stderr",
     "output_type": "stream",
     "text": [
      "      16/20       1.2G      1.082     0.4581      1.151          2        640: 100%|██████████| 878/878 [01:12<00:00, 12.05it/s]\n",
      "                 Class     Images  Instances      Box(P          R      mAP50  mAP50-95): 100%|██████████| 128/128 [00:10<00:00, 12.25it/s]"
     ]
    },
    {
     "name": "stdout",
     "output_type": "stream",
     "text": [
      "                   all       2033       2118      0.974      0.949      0.976      0.692\n"
     ]
    },
    {
     "name": "stderr",
     "output_type": "stream",
     "text": [
      "\n"
     ]
    },
    {
     "name": "stdout",
     "output_type": "stream",
     "text": [
      "\n",
      "      Epoch    GPU_mem   box_loss   cls_loss   dfl_loss  Instances       Size\n"
     ]
    },
    {
     "name": "stderr",
     "output_type": "stream",
     "text": [
      "      17/20       1.2G      1.071     0.4493      1.141          2        640: 100%|██████████| 878/878 [01:11<00:00, 12.20it/s]\n",
      "                 Class     Images  Instances      Box(P          R      mAP50  mAP50-95): 100%|██████████| 128/128 [00:10<00:00, 12.39it/s]"
     ]
    },
    {
     "name": "stdout",
     "output_type": "stream",
     "text": [
      "                   all       2033       2118       0.98      0.956      0.982      0.699\n"
     ]
    },
    {
     "name": "stderr",
     "output_type": "stream",
     "text": [
      "\n"
     ]
    },
    {
     "name": "stdout",
     "output_type": "stream",
     "text": [
      "\n",
      "      Epoch    GPU_mem   box_loss   cls_loss   dfl_loss  Instances       Size\n"
     ]
    },
    {
     "name": "stderr",
     "output_type": "stream",
     "text": [
      "      18/20       1.2G       1.06     0.4367      1.137          2        640: 100%|██████████| 878/878 [01:12<00:00, 12.11it/s]\n",
      "                 Class     Images  Instances      Box(P          R      mAP50  mAP50-95): 100%|██████████| 128/128 [00:09<00:00, 12.84it/s]"
     ]
    },
    {
     "name": "stdout",
     "output_type": "stream",
     "text": [
      "                   all       2033       2118      0.984      0.946      0.981      0.702\n"
     ]
    },
    {
     "name": "stderr",
     "output_type": "stream",
     "text": [
      "\n"
     ]
    },
    {
     "name": "stdout",
     "output_type": "stream",
     "text": [
      "\n",
      "      Epoch    GPU_mem   box_loss   cls_loss   dfl_loss  Instances       Size\n"
     ]
    },
    {
     "name": "stderr",
     "output_type": "stream",
     "text": [
      "      19/20       1.2G      1.052     0.4269      1.126          3        640: 100%|██████████| 878/878 [01:11<00:00, 12.20it/s]\n",
      "                 Class     Images  Instances      Box(P          R      mAP50  mAP50-95): 100%|██████████| 128/128 [00:10<00:00, 12.35it/s]"
     ]
    },
    {
     "name": "stdout",
     "output_type": "stream",
     "text": [
      "                   all       2033       2118      0.985      0.952      0.983      0.703\n"
     ]
    },
    {
     "name": "stderr",
     "output_type": "stream",
     "text": [
      "\n"
     ]
    },
    {
     "name": "stdout",
     "output_type": "stream",
     "text": [
      "\n",
      "      Epoch    GPU_mem   box_loss   cls_loss   dfl_loss  Instances       Size\n"
     ]
    },
    {
     "name": "stderr",
     "output_type": "stream",
     "text": [
      "      20/20       1.2G      1.037     0.4142      1.122          2        640: 100%|██████████| 878/878 [01:12<00:00, 12.15it/s]\n",
      "                 Class     Images  Instances      Box(P          R      mAP50  mAP50-95): 100%|██████████| 128/128 [00:10<00:00, 12.60it/s]"
     ]
    },
    {
     "name": "stdout",
     "output_type": "stream",
     "text": [
      "                   all       2033       2118      0.984      0.951      0.983       0.71\n"
     ]
    },
    {
     "name": "stderr",
     "output_type": "stream",
     "text": [
      "\n"
     ]
    },
    {
     "name": "stdout",
     "output_type": "stream",
     "text": [
      "\n",
      "20 epochs completed in 0.475 hours.\n",
      "Optimizer stripped from runs\\detect\\train2\\weights\\last.pt, 6.3MB\n",
      "Optimizer stripped from runs\\detect\\train2\\weights\\best.pt, 6.3MB\n",
      "\n",
      "Validating runs\\detect\\train2\\weights\\best.pt...\n",
      "Ultralytics YOLOv8.1.42  Python-3.10.4 torch-1.11.0+cu113 CUDA:0 (NVIDIA GeForce RTX 3070 Laptop GPU, 8192MiB)\n",
      "Model summary (fused): 168 layers, 3005843 parameters, 0 gradients, 8.1 GFLOPs\n"
     ]
    },
    {
     "name": "stderr",
     "output_type": "stream",
     "text": [
      "                 Class     Images  Instances      Box(P          R      mAP50  mAP50-95): 100%|██████████| 128/128 [00:10<00:00, 11.81it/s]\n"
     ]
    },
    {
     "name": "stdout",
     "output_type": "stream",
     "text": [
      "                   all       2033       2118      0.984      0.952      0.983       0.71\n",
      "Speed: 0.3ms preprocess, 1.6ms inference, 0.0ms loss, 0.8ms postprocess per image\n",
      "Results saved to \u001b[1mruns\\detect\\train2\u001b[0m\n"
     ]
    }
   ],
   "source": [
    "model = YOLO('yolov8n.pt')\n",
    "\n",
    "results = model.train(\n",
    "    data= data_path, \n",
    "    epochs=20,  \n",
    "    batch=8,\n",
    "    cache='disk',\n",
    "    device=0,\n",
    "    workers=2\n",
    "    )"
   ]
  }
 ],
 "metadata": {
  "kernelspec": {
   "display_name": "Python 3",
   "language": "python",
   "name": "python3"
  },
  "language_info": {
   "codemirror_mode": {
    "name": "ipython",
    "version": 3
   },
   "file_extension": ".py",
   "mimetype": "text/x-python",
   "name": "python",
   "nbconvert_exporter": "python",
   "pygments_lexer": "ipython3",
   "version": "3.10.4"
  }
 },
 "nbformat": 4,
 "nbformat_minor": 2
}
